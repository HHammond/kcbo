{
 "metadata": {
  "name": "",
  "signature": "sha256:784f63b2c0e7e743ac6415a145ae696e8f993dbdad63ee4f102561381b7a1487"
 },
 "nbformat": 3,
 "nbformat_minor": 0,
 "worksheets": [
  {
   "cells": [
    {
     "cell_type": "heading",
     "level": 1,
     "metadata": {},
     "source": [
      "KCBO"
     ]
    },
    {
     "cell_type": "markdown",
     "metadata": {},
     "source": [
      "### *Introducing a new Bayesian Data Analysis Toolkit*"
     ]
    },
    {
     "cell_type": "markdown",
     "metadata": {},
     "source": [
      "KCBO is a toolkit for anyone who wants to do Bayesian data analysis without worrying about all the implementation details for a certain test. \n",
      "\n",
      "Currently KCBO is very much alpha/pre-alpha software and only implements a three tests. [Here](https://github.com/HHammond/kcbo/blob/master/Objectives.md) is a list of future objectives for the project."
     ]
    },
    {
     "cell_type": "heading",
     "level": 2,
     "metadata": {},
     "source": [
      "Installation"
     ]
    },
    {
     "cell_type": "markdown",
     "metadata": {},
     "source": [
      "KCBO is available through PyPI and on [Github here](https://github.com/HHammond/kcbo). The following commands will install KCBO:\n",
      "\n",
      "\n",
      "### From PyPI:\n",
      "\n",
      "```\n",
      "pip install kcbo\n",
      "```\n",
      "\n",
      "### From Source:\n",
      "\n",
      "```\n",
      "git clone https://github.com/HHammond/kcbo\n",
      "cd kcbo\n",
      "python setup.py sdist install\n",
      "```\n",
      "\n",
      "If any of this fails, you may need to install numpy (`pip install numpy`) in order to install some dependencies of KCBO, then retry installing it."
     ]
    },
    {
     "cell_type": "heading",
     "level": 2,
     "metadata": {},
     "source": [
      "Usage"
     ]
    },
    {
     "cell_type": "markdown",
     "metadata": {},
     "source": [
      "There are currently three tests implemented in the KCBO library:\n",
      "\n",
      "* Lognormal-Difference of medians: used to compare medians of log-normal distributed data with the same variance.\n",
      "\n",
      "* Bayesian t-Test: an implementation of Kruschke's t-Test.\n",
      "\n",
      "* Conversion Test: test of conversion to success using the Beta-Binomial model. Popular in A/B testing and estimation."
     ]
    },
    {
     "cell_type": "heading",
     "level": 2,
     "metadata": {},
     "source": [
      "Examples:"
     ]
    },
    {
     "cell_type": "code",
     "collapsed": false,
     "input": [
      "from kcbo import lognormal_comparison_test, t_test, conversion_test"
     ],
     "language": "python",
     "metadata": {},
     "outputs": [],
     "prompt_number": 1
    },
    {
     "cell_type": "code",
     "collapsed": false,
     "input": [
      "import pandas as pd\n",
      "import numpy as np\n",
      "from matplotlib import pyplot as plt\n",
      "import seaborn as sns\n",
      "%matplotlib inline"
     ],
     "language": "python",
     "metadata": {},
     "outputs": [],
     "prompt_number": 2
    },
    {
     "cell_type": "heading",
     "level": 3,
     "metadata": {},
     "source": [
      "Lognormal-Difference of Medians test"
     ]
    },
    {
     "cell_type": "markdown",
     "metadata": {},
     "source": [
      "Note: Because this test uses an MC simulation on the lognormal distribution conjugate prior, it assumes that both distributions have the same variance."
     ]
    },
    {
     "cell_type": "code",
     "collapsed": false,
     "input": [
      "# Generate some data\n",
      "g1d = np.random.lognormal(mean=3, sigma=1, size=10000)\n",
      "g1l = ['A'] * g1d.shape[0]\n",
      "g2d = np.random.lognormal(mean=3.03, sigma=1, size=10000)\n",
      "g2l = ['B'] * g2d.shape[0]\n",
      "\n",
      "g1 = pd.DataFrame(data=g1d, columns=['value'])\n",
      "g1['group'] = g1l\n",
      "g2 = pd.DataFrame(data=g2d, columns=['value'])\n",
      "g2['group'] = g2l\n",
      "\n",
      "lognormal_data = pd.concat([g1, g2])"
     ],
     "language": "python",
     "metadata": {},
     "outputs": [],
     "prompt_number": 3
    },
    {
     "cell_type": "code",
     "collapsed": false,
     "input": [
      "summary, data = lognormal_comparison_test(lognormal_data, samples=100000)"
     ],
     "language": "python",
     "metadata": {},
     "outputs": [],
     "prompt_number": 4
    },
    {
     "cell_type": "code",
     "collapsed": false,
     "input": [
      "print summary"
     ],
     "language": "python",
     "metadata": {},
     "outputs": [
      {
       "output_type": "stream",
       "stream": "stdout",
       "text": [
        "                        Lognormal Median Comparison Test                        \n",
        "\n",
        "Groups: A, B\n",
        "\n",
        "Estimates:\n",
        "\n",
        "| Group   |   Median |   95% CI Lower |   95% CI Upper |      Mu |   95% CI Lower |   95% CI Upper |\n",
        "|:--------|---------:|---------------:|---------------:|--------:|---------------:|---------------:|\n",
        "| A       |  19.7915 |        19.3976 |        20.1921 | 2.9852  |        2.96515 |        3.00529 |\n",
        "| B       |  20.3804 |        19.9753 |        20.7924 | 3.01452 |        2.9945  |        3.03459 |\n",
        "\n",
        "Comparisions:\n",
        "\n",
        "| Hypothesis   |   Difference of Medians |   P.Value |   95% CI Lower |   95% CI Upper |\n",
        "|:-------------|------------------------:|----------:|---------------:|---------------:|\n",
        "| A < B        |                 0.58924 |   0.97753 |      0.0129132 |        1.15935 |\n",
        "\n"
       ]
      }
     ],
     "prompt_number": 5
    },
    {
     "cell_type": "code",
     "collapsed": false,
     "input": [
      "A,B = data['A']['median'], data['B']['median']\n",
      "diff = data[('A','B')]['diff_medians']\n",
      "\n",
      "f, axes = plt.subplots(1,2, figsize=(12, 7))\n",
      "sns.set(style=\"white\", palette=\"muted\")\n",
      "sns.despine(left=True)\n",
      "\n",
      "sns.distplot(A, ax=axes[0], label='Median Estimate Density for A')\n",
      "sns.distplot(B, ax=axes[0], label='Median Estimate Density for B')\n",
      "sns.distplot(diff, ax=axes[1], label='Difference of Densities (B-A)')\n",
      "\n",
      "axes[0].legend()\n",
      "axes[1].legend()\n",
      "\n",
      "plt.show()"
     ],
     "language": "python",
     "metadata": {},
     "outputs": [
      {
       "metadata": {},
       "output_type": "display_data",
       "png": "[encoded data removed]",
       "text": [
        "<matplotlib.figure.Figure at 0x10ed3de50>"
       ]
      }
     ],
     "prompt_number": 6
    },
    {
     "cell_type": "heading",
     "level": 3,
     "metadata": {},
     "source": [
      "Bayesian t-Test"
     ]
    },
    {
     "cell_type": "markdown",
     "metadata": {},
     "source": [
      "Kruschke's implementation of the Bayesian t-Test. Since the implementation of this test uses PyMC2 and HMCMC it can take a while for the sampler to converge."
     ]
    },
    {
     "cell_type": "code",
     "collapsed": false,
     "input": [
      "n1,n2 = (140,200)\n",
      "\n",
      "group1 = np.random.normal(15,2,n1)\n",
      "group2 = np.random.normal(15.7,2,n2)\n",
      "\n",
      "A = zip(['A']*n1, group1)\n",
      "B = zip(['B']*n2, group2)\n",
      "\n",
      "df = pd.concat([pd.DataFrame(A), pd.DataFrame(B)])\n",
      "df.columns = 'group','value'\n",
      "df.head()"
     ],
     "language": "python",
     "metadata": {},
     "outputs": [
      {
       "html": [
        "<div style=\"max-height:1000px;max-width:1500px;overflow:auto;\">\n",
        "<table border=\"1\" class=\"dataframe\">\n",
        "  <thead>\n",
        "    <tr style=\"text-align: right;\">\n",
        "      <th></th>\n",
        "      <th>group</th>\n",
        "      <th>value</th>\n",
        "    </tr>\n",
        "  </thead>\n",
        "  <tbody>\n",
        "    <tr>\n",
        "      <th>0</th>\n",
        "      <td> A</td>\n",
        "      <td> 12.755334</td>\n",
        "    </tr>\n",
        "    <tr>\n",
        "      <th>1</th>\n",
        "      <td> A</td>\n",
        "      <td> 17.371657</td>\n",
        "    </tr>\n",
        "    <tr>\n",
        "      <th>2</th>\n",
        "      <td> A</td>\n",
        "      <td> 15.678301</td>\n",
        "    </tr>\n",
        "    <tr>\n",
        "      <th>3</th>\n",
        "      <td> A</td>\n",
        "      <td> 13.358686</td>\n",
        "    </tr>\n",
        "    <tr>\n",
        "      <th>4</th>\n",
        "      <td> A</td>\n",
        "      <td> 10.424609</td>\n",
        "    </tr>\n",
        "  </tbody>\n",
        "</table>\n",
        "</div>"
       ],
       "metadata": {},
       "output_type": "pyout",
       "prompt_number": 7,
       "text": [
        "  group      value\n",
        "0     A  12.755334\n",
        "1     A  17.371657\n",
        "2     A  15.678301\n",
        "3     A  13.358686\n",
        "4     A  10.424609"
       ]
      }
     ],
     "prompt_number": 7
    },
    {
     "cell_type": "code",
     "collapsed": false,
     "input": [
      "description, data = t_test(df,groupcol='group',valuecol='value',  samples=60000, progress_bar=True)"
     ],
     "language": "python",
     "metadata": {},
     "outputs": [
      {
       "output_type": "stream",
       "stream": "stdout",
       "text": [
        "\r",
        " [                  1%                  ] 1119 of 60000 complete in 0.5 sec"
       ]
      },
      {
       "output_type": "stream",
       "stream": "stdout",
       "text": [
        "\r",
        " [-                 3%                  ] 2155 of 60000 complete in 1.0 sec"
       ]
      },
      {
       "output_type": "stream",
       "stream": "stdout",
       "text": [
        "\r",
        " [--                5%                  ] 3192 of 60000 complete in 1.5 sec"
       ]
      },
      {
       "output_type": "stream",
       "stream": "stdout",
       "text": [
        "\r",
        " [--                7%                  ] 4260 of 60000 complete in 2.0 sec"
       ]
      },
      {
       "output_type": "stream",
       "stream": "stdout",
       "text": [
        "\r",
        " [---               8%                  ] 5310 of 60000 complete in 2.5 sec"
       ]
      },
      {
       "output_type": "stream",
       "stream": "stdout",
       "text": [
        "\r",
        " [---              10%                  ] 6294 of 60000 complete in 3.0 sec"
       ]
      },
      {
       "output_type": "stream",
       "stream": "stdout",
       "text": [
        "\r",
        " [----             12%                  ] 7361 of 60000 complete in 3.5 sec"
       ]
      },
      {
       "output_type": "stream",
       "stream": "stdout",
       "text": [
        "\r",
        " [-----            13%                  ] 8355 of 60000 complete in 4.0 sec"
       ]
      },
      {
       "output_type": "stream",
       "stream": "stdout",
       "text": [
        "\r",
        " [-----            15%                  ] 9370 of 60000 complete in 4.5 sec"
       ]
      },
      {
       "output_type": "stream",
       "stream": "stdout",
       "text": [
        "\r",
        " [------           17%                  ] 10211 of 60000 complete in 5.0 sec"
       ]
      },
      {
       "output_type": "stream",
       "stream": "stdout",
       "text": [
        "\r",
        " [-------          18%                  ] 11104 of 60000 complete in 5.5 sec"
       ]
      },
      {
       "output_type": "stream",
       "stream": "stdout",
       "text": [
        "\r",
        " [-------          19%                  ] 11632 of 60000 complete in 6.0 sec"
       ]
      },
      {
       "output_type": "stream",
       "stream": "stdout",
       "text": [
        "\r",
        " [-------          20%                  ] 12113 of 60000 complete in 6.5 sec"
       ]
      },
      {
       "output_type": "stream",
       "stream": "stdout",
       "text": [
        "\r",
        " [--------         21%                  ] 12879 of 60000 complete in 7.0 sec"
       ]
      },
      {
       "output_type": "stream",
       "stream": "stdout",
       "text": [
        "\r",
        " [--------         22%                  ] 13681 of 60000 complete in 7.5 sec"
       ]
      },
      {
       "output_type": "stream",
       "stream": "stdout",
       "text": [
        "\r",
        " [---------        23%                  ] 14212 of 60000 complete in 8.0 sec"
       ]
      },
      {
       "output_type": "stream",
       "stream": "stdout",
       "text": [
        "\r",
        " [---------        24%                  ] 14753 of 60000 complete in 8.5 sec"
       ]
      },
      {
       "output_type": "stream",
       "stream": "stdout",
       "text": [
        "\r",
        " [---------        25%                  ] 15282 of 60000 complete in 9.0 sec"
       ]
      },
      {
       "output_type": "stream",
       "stream": "stdout",
       "text": [
        "\r",
        " [----------       26%                  ] 15988 of 60000 complete in 9.5 sec"
       ]
      },
      {
       "output_type": "stream",
       "stream": "stdout",
       "text": [
        "\r",
        " [----------       28%                  ] 16871 of 60000 complete in 10.0 sec"
       ]
      },
      {
       "output_type": "stream",
       "stream": "stdout",
       "text": [
        "\r",
        " [-----------      29%                  ] 17777 of 60000 complete in 10.5 sec"
       ]
      },
      {
       "output_type": "stream",
       "stream": "stdout",
       "text": [
        "\r",
        " [-----------      31%                  ] 18640 of 60000 complete in 11.0 sec"
       ]
      },
      {
       "output_type": "stream",
       "stream": "stdout",
       "text": [
        "\r",
        " [------------     32%                  ] 19216 of 60000 complete in 11.5 sec"
       ]
      },
      {
       "output_type": "stream",
       "stream": "stdout",
       "text": [
        "\r",
        " [------------     32%                  ] 19751 of 60000 complete in 12.0 sec"
       ]
      },
      {
       "output_type": "stream",
       "stream": "stdout",
       "text": [
        "\r",
        " [------------     34%                  ] 20430 of 60000 complete in 12.5 sec"
       ]
      },
      {
       "output_type": "stream",
       "stream": "stdout",
       "text": [
        "\r",
        " [-------------    35%                  ] 21199 of 60000 complete in 13.0 sec"
       ]
      },
      {
       "output_type": "stream",
       "stream": "stdout",
       "text": [
        "\r",
        " [-------------    36%                  ] 22061 of 60000 complete in 13.5 sec"
       ]
      },
      {
       "output_type": "stream",
       "stream": "stdout",
       "text": [
        "\r",
        " [--------------   38%                  ] 22910 of 60000 complete in 14.0 sec"
       ]
      },
      {
       "output_type": "stream",
       "stream": "stdout",
       "text": [
        "\r",
        " [--------------   39%                  ] 23527 of 60000 complete in 14.5 sec"
       ]
      },
      {
       "output_type": "stream",
       "stream": "stdout",
       "text": [
        "\r",
        " [---------------  40%                  ] 24118 of 60000 complete in 15.0 sec"
       ]
      },
      {
       "output_type": "stream",
       "stream": "stdout",
       "text": [
        "\r",
        " [---------------  41%                  ] 24728 of 60000 complete in 15.5 sec"
       ]
      },
      {
       "output_type": "stream",
       "stream": "stdout",
       "text": [
        "\r",
        " [---------------- 42%                  ] 25297 of 60000 complete in 16.0 sec"
       ]
      },
      {
       "output_type": "stream",
       "stream": "stdout",
       "text": [
        "\r",
        " [---------------- 43%                  ] 25970 of 60000 complete in 16.5 sec"
       ]
      },
      {
       "output_type": "stream",
       "stream": "stdout",
       "text": [
        "\r",
        " [---------------- 44%                  ] 26839 of 60000 complete in 17.0 sec"
       ]
      },
      {
       "output_type": "stream",
       "stream": "stdout",
       "text": [
        "\r",
        " [-----------------46%                  ] 27728 of 60000 complete in 17.5 sec"
       ]
      },
      {
       "output_type": "stream",
       "stream": "stdout",
       "text": [
        "\r",
        " [-----------------47%                  ] 28528 of 60000 complete in 18.0 sec"
       ]
      },
      {
       "output_type": "stream",
       "stream": "stdout",
       "text": [
        "\r",
        " [-----------------48%                  ] 29161 of 60000 complete in 18.5 sec"
       ]
      },
      {
       "output_type": "stream",
       "stream": "stdout",
       "text": [
        "\r",
        " [-----------------49%                  ] 29772 of 60000 complete in 19.0 sec"
       ]
      },
      {
       "output_type": "stream",
       "stream": "stdout",
       "text": [
        "\r",
        " [-----------------51%                  ] 30619 of 60000 complete in 19.5 sec"
       ]
      },
      {
       "output_type": "stream",
       "stream": "stdout",
       "text": [
        "\r",
        " [-----------------52%                  ] 31463 of 60000 complete in 20.0 sec"
       ]
      },
      {
       "output_type": "stream",
       "stream": "stdout",
       "text": [
        "\r",
        " [-----------------53%                  ] 32292 of 60000 complete in 20.5 sec"
       ]
      },
      {
       "output_type": "stream",
       "stream": "stdout",
       "text": [
        "\r",
        " [-----------------55%                  ] 33059 of 60000 complete in 21.0 sec"
       ]
      },
      {
       "output_type": "stream",
       "stream": "stdout",
       "text": [
        "\r",
        " [-----------------56%-                 ] 33829 of 60000 complete in 21.5 sec"
       ]
      },
      {
       "output_type": "stream",
       "stream": "stdout",
       "text": [
        "\r",
        " [-----------------57%-                 ] 34616 of 60000 complete in 22.0 sec"
       ]
      },
      {
       "output_type": "stream",
       "stream": "stdout",
       "text": [
        "\r",
        " [-----------------59%--                ] 35405 of 60000 complete in 22.5 sec"
       ]
      },
      {
       "output_type": "stream",
       "stream": "stdout",
       "text": [
        "\r",
        " [-----------------60%--                ] 36039 of 60000 complete in 23.0 sec"
       ]
      },
      {
       "output_type": "stream",
       "stream": "stdout",
       "text": [
        "\r",
        " [-----------------61%---               ] 36628 of 60000 complete in 23.5 sec"
       ]
      },
      {
       "output_type": "stream",
       "stream": "stdout",
       "text": [
        "\r",
        " [-----------------62%---               ] 37277 of 60000 complete in 24.0 sec"
       ]
      },
      {
       "output_type": "stream",
       "stream": "stdout",
       "text": [
        "\r",
        " [-----------------63%---               ] 37878 of 60000 complete in 24.5 sec"
       ]
      },
      {
       "output_type": "stream",
       "stream": "stdout",
       "text": [
        "\r",
        " [-----------------64%----              ] 38579 of 60000 complete in 25.0 sec"
       ]
      },
      {
       "output_type": "stream",
       "stream": "stdout",
       "text": [
        "\r",
        " [-----------------65%----              ] 39380 of 60000 complete in 25.5 sec"
       ]
      },
      {
       "output_type": "stream",
       "stream": "stdout",
       "text": [
        "\r",
        " [-----------------66%-----             ] 40044 of 60000 complete in 26.0 sec"
       ]
      },
      {
       "output_type": "stream",
       "stream": "stdout",
       "text": [
        "\r",
        " [-----------------67%-----             ] 40671 of 60000 complete in 26.5 sec"
       ]
      },
      {
       "output_type": "stream",
       "stream": "stdout",
       "text": [
        "\r",
        " [-----------------68%------            ] 41299 of 60000 complete in 27.0 sec"
       ]
      },
      {
       "output_type": "stream",
       "stream": "stdout",
       "text": [
        "\r",
        " [-----------------70%------            ] 42190 of 60000 complete in 27.5 sec"
       ]
      },
      {
       "output_type": "stream",
       "stream": "stdout",
       "text": [
        "\r",
        " [-----------------71%-------           ] 42892 of 60000 complete in 28.0 sec"
       ]
      },
      {
       "output_type": "stream",
       "stream": "stdout",
       "text": [
        "\r",
        " [-----------------72%-------           ] 43624 of 60000 complete in 28.5 sec"
       ]
      },
      {
       "output_type": "stream",
       "stream": "stdout",
       "text": [
        "\r",
        " [-----------------73%--------          ] 44395 of 60000 complete in 29.0 sec"
       ]
      },
      {
       "output_type": "stream",
       "stream": "stdout",
       "text": [
        "\r",
        " [-----------------75%--------          ] 45231 of 60000 complete in 29.5 sec"
       ]
      },
      {
       "output_type": "stream",
       "stream": "stdout",
       "text": [
        "\r",
        " [-----------------76%---------         ] 46026 of 60000 complete in 30.0 sec"
       ]
      },
      {
       "output_type": "stream",
       "stream": "stdout",
       "text": [
        "\r",
        " [-----------------77%---------         ] 46775 of 60000 complete in 30.5 sec"
       ]
      },
      {
       "output_type": "stream",
       "stream": "stdout",
       "text": [
        "\r",
        " [-----------------79%----------        ] 47628 of 60000 complete in 31.0 sec"
       ]
      },
      {
       "output_type": "stream",
       "stream": "stdout",
       "text": [
        "\r",
        " [-----------------80%----------        ] 48284 of 60000 complete in 31.5 sec"
       ]
      },
      {
       "output_type": "stream",
       "stream": "stdout",
       "text": [
        "\r",
        " [-----------------81%----------        ] 48942 of 60000 complete in 32.0 sec"
       ]
      },
      {
       "output_type": "stream",
       "stream": "stdout",
       "text": [
        "\r",
        " [-----------------82%-----------       ] 49597 of 60000 complete in 32.5 sec"
       ]
      },
      {
       "output_type": "stream",
       "stream": "stdout",
       "text": [
        "\r",
        " [-----------------83%-----------       ] 50358 of 60000 complete in 33.0 sec"
       ]
      },
      {
       "output_type": "stream",
       "stream": "stdout",
       "text": [
        "\r",
        " [-----------------85%------------      ] 51060 of 60000 complete in 33.5 sec"
       ]
      },
      {
       "output_type": "stream",
       "stream": "stdout",
       "text": [
        "\r",
        " [-----------------86%------------      ] 51798 of 60000 complete in 34.0 sec"
       ]
      },
      {
       "output_type": "stream",
       "stream": "stdout",
       "text": [
        "\r",
        " [-----------------87%-------------     ] 52367 of 60000 complete in 34.5 sec"
       ]
      },
      {
       "output_type": "stream",
       "stream": "stdout",
       "text": [
        "\r",
        " [-----------------88%-------------     ] 53021 of 60000 complete in 35.0 sec"
       ]
      },
      {
       "output_type": "stream",
       "stream": "stdout",
       "text": [
        "\r",
        " [-----------------89%-------------     ] 53663 of 60000 complete in 35.5 sec"
       ]
      },
      {
       "output_type": "stream",
       "stream": "stdout",
       "text": [
        "\r",
        " [-----------------90%--------------    ] 54361 of 60000 complete in 36.0 sec"
       ]
      },
      {
       "output_type": "stream",
       "stream": "stdout",
       "text": [
        "\r",
        " [-----------------92%--------------    ] 55220 of 60000 complete in 36.5 sec"
       ]
      },
      {
       "output_type": "stream",
       "stream": "stdout",
       "text": [
        "\r",
        " [-----------------93%---------------   ] 56071 of 60000 complete in 37.0 sec"
       ]
      },
      {
       "output_type": "stream",
       "stream": "stdout",
       "text": [
        "\r",
        " [-----------------94%----------------  ] 56954 of 60000 complete in 37.5 sec"
       ]
      },
      {
       "output_type": "stream",
       "stream": "stdout",
       "text": [
        "\r",
        " [-----------------96%----------------  ] 57815 of 60000 complete in 38.0 sec"
       ]
      },
      {
       "output_type": "stream",
       "stream": "stdout",
       "text": [
        "\r",
        " [-----------------97%----------------- ] 58697 of 60000 complete in 38.5 sec"
       ]
      },
      {
       "output_type": "stream",
       "stream": "stdout",
       "text": [
        "\r",
        " [-----------------99%----------------- ] 59560 of 60000 complete in 39.0 sec"
       ]
      },
      {
       "output_type": "stream",
       "stream": "stdout",
       "text": [
        "\r",
        " [-----------------100%-----------------] 60000 of 60000 complete in 39.3 sec"
       ]
      }
     ],
     "prompt_number": 8
    },
    {
     "cell_type": "code",
     "collapsed": false,
     "input": [
      "print description"
     ],
     "language": "python",
     "metadata": {},
     "outputs": [
      {
       "output_type": "stream",
       "stream": "stdout",
       "text": [
        "                                Bayesian t-Test                                 \n",
        "\n",
        " \n",
        "\n",
        "| Hypothesis   |   Difference of Means |   P.Value |   95% CI Lower |   95% CI Upper |\n",
        "|:-------------|----------------------:|----------:|---------------:|---------------:|\n",
        "| A < B        |               1.02472 |         1 |        0.60196 |        1.44501 |\n",
        "\n",
        "| Hypothesis   |   Difference of S.Dev |   P.Value |   95% CI Lower |   95% CI Upper |\n",
        "|:-------------|----------------------:|----------:|---------------:|---------------:|\n",
        "| A < B        |             0.0458748 |         1 |       -0.25691 |       0.339418 |\n",
        "\n",
        "| Hypothesis   |   Effect Size |   P.Value |   95% CI Lower |   95% CI Upper |\n",
        "|:-------------|--------------:|----------:|---------------:|---------------:|\n",
        "| A < B        |      0.546456 |         1 |          0.317 |       0.775599 |\n",
        "\n"
       ]
      }
     ],
     "prompt_number": 9
    },
    {
     "cell_type": "code",
     "collapsed": false,
     "input": [
      "diff = data[('A', 'B')]['diff_means']\n",
      "\n",
      "f, axes = plt.subplots(1,1, figsize=(12, 7))\n",
      "sns.despine(left=True)\n",
      "sns.distplot(diff, label='Difference of Means').legend()\n",
      "plt.show()"
     ],
     "language": "python",
     "metadata": {},
     "outputs": [
      {
       "metadata": {},
       "output_type": "display_data",
       "png": "[encoded data removed]",
       "text": [
        "<matplotlib.figure.Figure at 0x10ed38950>"
       ]
      }
     ],
     "prompt_number": 10
    },
    {
     "cell_type": "heading",
     "level": 3,
     "metadata": {},
     "source": [
      "Beta-Binomial Conversion Rate Test"
     ]
    },
    {
     "cell_type": "markdown",
     "metadata": {},
     "source": [
      "A common test in A/B tests is comparing the conversion rate between two features. Here we take the number of successes and total trials (or tests) and use the beta-binomial model."
     ]
    },
    {
     "cell_type": "code",
     "collapsed": false,
     "input": [
      "A = {'group':'A', 'trials': 10000, 'successes':5000}\n",
      "B = {'group':'B', 'trials': 8000, 'successes':4090}\n",
      "\n",
      "df = pd.DataFrame([A,B])\n",
      "df"
     ],
     "language": "python",
     "metadata": {},
     "outputs": [
      {
       "html": [
        "<div style=\"max-height:1000px;max-width:1500px;overflow:auto;\">\n",
        "<table border=\"1\" class=\"dataframe\">\n",
        "  <thead>\n",
        "    <tr style=\"text-align: right;\">\n",
        "      <th></th>\n",
        "      <th>group</th>\n",
        "      <th>successes</th>\n",
        "      <th>trials</th>\n",
        "    </tr>\n",
        "  </thead>\n",
        "  <tbody>\n",
        "    <tr>\n",
        "      <th>0</th>\n",
        "      <td> A</td>\n",
        "      <td> 5000</td>\n",
        "      <td> 10000</td>\n",
        "    </tr>\n",
        "    <tr>\n",
        "      <th>1</th>\n",
        "      <td> B</td>\n",
        "      <td> 4090</td>\n",
        "      <td>  8000</td>\n",
        "    </tr>\n",
        "  </tbody>\n",
        "</table>\n",
        "</div>"
       ],
       "metadata": {},
       "output_type": "pyout",
       "prompt_number": 11,
       "text": [
        "  group  successes  trials\n",
        "0     A       5000   10000\n",
        "1     B       4090    8000"
       ]
      }
     ],
     "prompt_number": 11
    },
    {
     "cell_type": "code",
     "collapsed": false,
     "input": [
      "summary, data = conversion_test(df, groupcol='group',successcol='successes',totalcol='trials')"
     ],
     "language": "python",
     "metadata": {},
     "outputs": [],
     "prompt_number": 12
    },
    {
     "cell_type": "code",
     "collapsed": false,
     "input": [
      "print summary"
     ],
     "language": "python",
     "metadata": {},
     "outputs": [
      {
       "output_type": "stream",
       "stream": "stdout",
       "text": [
        "                       Beta-Binomial Conversion Rate Test                       \n",
        "\n",
        "Groups: A, B\n",
        "\n",
        "Estimates:\n",
        "\n",
        "| Group   |   Estimate |   95% CI Lower |   95% CI Upper |\n",
        "|:--------|-----------:|---------------:|---------------:|\n",
        "| A       |   0.500016 |       0.490261 |       0.509824 |\n",
        "| B       |   0.511272 |       0.500279 |       0.522188 |\n",
        "\n",
        "Comparisions:\n",
        "\n",
        "| Hypothesis   |   Difference |   P.Value |   95% CI Lower |   95% CI Upper |\n",
        "|:-------------|-------------:|----------:|---------------:|---------------:|\n",
        "| A < B        |    0.0112787 |   0.93366 |    -0.00343106 |      0.0259026 |\n",
        "\n"
       ]
      }
     ],
     "prompt_number": 13
    },
    {
     "cell_type": "code",
     "collapsed": false,
     "input": [
      "A = data['A']['distribution']\n",
      "B = data['B']['distribution']\n",
      "diff = data[('A','B')]['distribution']\n",
      "\n",
      "f, axes = plt.subplots(1,2, figsize=(12, 7))\n",
      "sns.set(style=\"white\", palette=\"muted\")\n",
      "sns.despine(left=True)\n",
      "\n",
      "sns.distplot(A, ax=axes[0], label='Density Estimate for A')\n",
      "sns.distplot(B, ax=axes[0], label='Density Estimate for B')\n",
      "sns.distplot(diff, ax=axes[1], label='Difference of Densities (B-A)')\n",
      "\n",
      "axes[0].legend()\n",
      "axes[1].legend()\n",
      "\n",
      "plt.show()"
     ],
     "language": "python",
     "metadata": {},
     "outputs": [
      {
       "metadata": {},
       "output_type": "display_data",
       "png": "[encoded data removed]",
       "text": [
        "<matplotlib.figure.Figure at 0x10f747650>"
       ]
      }
     ],
     "prompt_number": 14
    },
    {
     "cell_type": "code",
     "collapsed": false,
     "input": [],
     "language": "python",
     "metadata": {},
     "outputs": []
    }
   ],
   "metadata": {}
  }
 ]
}