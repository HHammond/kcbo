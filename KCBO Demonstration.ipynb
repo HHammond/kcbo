{
 "metadata": {
  "name": "",
  "signature": "sha256:51899f76bdc3d94edea7a472a6f5328cc8d878486034a94bb03843b9d57fc993"
 },
 "nbformat": 3,
 "nbformat_minor": 0,
 "worksheets": [
  {
   "cells": [
    {
     "cell_type": "heading",
     "level": 1,
     "metadata": {},
     "source": [
      "KCBO"
     ]
    },
    {
     "cell_type": "markdown",
     "metadata": {},
     "source": [
      "### *Introducing a new Bayesian Data Analysis Toolkit*"
     ]
    },
    {
     "cell_type": "markdown",
     "metadata": {},
     "source": [
      "KCBO is a toolkit for anyone who wants to do Bayesian data analysis without worrying about all the implementation details for a certain test. \n",
      "\n",
      "Currently KCBO is very much alpha/pre-alpha software and only implements a three tests. [Here](https://github.com/HHammond/kcbo/blob/master/Objectives.md) is a list of future objectives for the project."
     ]
    },
    {
     "cell_type": "heading",
     "level": 2,
     "metadata": {},
     "source": [
      "Installation"
     ]
    },
    {
     "cell_type": "markdown",
     "metadata": {},
     "source": [
      "KCBO is available through PyPI and on [Github here](https://github.com/HHammond/kcbo). The following commands will install KCBO:\n",
      "\n",
      "\n",
      "### From PyPI:\n",
      "\n",
      "```\n",
      "pip install kbo\n",
      "```\n",
      "\n",
      "### From Source:\n",
      "\n",
      "```\n",
      "git clone https://github.com/HHammond/kcbo\n",
      "cd kcbo\n",
      "python setup.py sdist install\n",
      "```\n",
      "\n",
      "If any of this fails, you may need to install numpy (`pip install numpy`) in order to install some dependencies of KCBO, then retry installing it."
     ]
    },
    {
     "cell_type": "heading",
     "level": 2,
     "metadata": {},
     "source": [
      "Usage"
     ]
    },
    {
     "cell_type": "markdown",
     "metadata": {},
     "source": [
      "There are currently three tests implemented in the KCBO library:\n",
      "\n",
      "* Lognormal-Difference of medians: used to compare medians of log-normal distributed data with the same variance.\n",
      "\n",
      "* Bayesian t-Test: an implementation of Kruschke's t-Test.\n",
      "\n",
      "* Conversion Test: test of conversion to success using the Beta-Binomial model. Popular in A/B testing and estimation."
     ]
    },
    {
     "cell_type": "heading",
     "level": 2,
     "metadata": {},
     "source": [
      "Examples:"
     ]
    },
    {
     "cell_type": "code",
     "collapsed": false,
     "input": [
      "from kcbo import lognormal_comparison_test, t_test, conversion_test"
     ],
     "language": "python",
     "metadata": {},
     "outputs": [],
     "prompt_number": 1
    },
    {
     "cell_type": "code",
     "collapsed": false,
     "input": [
      "import pandas as pd\n",
      "import numpy as np\n",
      "from matplotlib import pyplot as plt\n",
      "import seaborn as sns\n",
      "%matplotlib inline"
     ],
     "language": "python",
     "metadata": {},
     "outputs": [],
     "prompt_number": 2
    },
    {
     "cell_type": "heading",
     "level": 3,
     "metadata": {},
     "source": [
      "Lognormal-Difference of Medians test"
     ]
    },
    {
     "cell_type": "markdown",
     "metadata": {},
     "source": [
      "Note: Because this test uses an MC simulation on the lognormal distribution conjugate prior, it assumes that both distributions have the same variance."
     ]
    },
    {
     "cell_type": "code",
     "collapsed": false,
     "input": [
      "# Generate some data\n",
      "g1d = np.random.lognormal(mean=3, sigma=1, size=10000)\n",
      "g1l = ['A'] * g1d.shape[0]\n",
      "g2d = np.random.lognormal(mean=3.03, sigma=1, size=10000)\n",
      "g2l = ['B'] * g2d.shape[0]\n",
      "\n",
      "g1 = pd.DataFrame(data=g1d, columns=['value'])\n",
      "g1['group'] = g1l\n",
      "g2 = pd.DataFrame(data=g2d, columns=['value'])\n",
      "g2['group'] = g2l\n",
      "\n",
      "lognormal_data = pd.concat([g1, g2])"
     ],
     "language": "python",
     "metadata": {},
     "outputs": [],
     "prompt_number": 3
    },
    {
     "cell_type": "code",
     "collapsed": false,
     "input": [
      "summary, data = lognormal_comparison_test(lognormal_data, samples=100000)"
     ],
     "language": "python",
     "metadata": {},
     "outputs": [],
     "prompt_number": 4
    },
    {
     "cell_type": "code",
     "collapsed": false,
     "input": [
      "print summary"
     ],
     "language": "python",
     "metadata": {},
     "outputs": [
      {
       "output_type": "stream",
       "stream": "stdout",
       "text": [
        "                        Lognormal Median Comparison Test                        \n",
        "\n",
        "Groups: A, B\n",
        "\n",
        "Estimates:\n",
        "\n",
        "| Group   |   Median |   95% CI Lower |   95% CI Upper |      Mu |   95% CI Lower |   95% CI Upper |\n",
        "|:--------|---------:|---------------:|---------------:|--------:|---------------:|---------------:|\n",
        "| A       |  19.968  |        19.5843 |        20.3603 | 2.99408 |        2.97473 |        3.01359 |\n",
        "| B       |  20.8009 |        20.3973 |        21.2072 | 3.03494 |        3.0154  |        3.05434 |\n",
        "\n",
        "Comparisions:\n",
        "\n",
        "| Hypothesis   |   Difference of Medians |   P.Value |   95% CI Lower |   95% CI Upper |\n",
        "|:-------------|------------------------:|----------:|---------------:|---------------:|\n",
        "| A < B        |                0.835488 |   0.99817 |       0.275332 |        1.40199 |\n",
        "\n"
       ]
      }
     ],
     "prompt_number": 5
    },
    {
     "cell_type": "code",
     "collapsed": false,
     "input": [
      "data"
     ],
     "language": "python",
     "metadata": {},
     "outputs": [
      {
       "metadata": {},
       "output_type": "pyout",
       "prompt_number": 6,
       "text": [
        "{'A': {'95_CI median': (19.584320009607698, 20.360326123418382),\n",
        "  '95_CI mu': (2.9747292465562007, 3.0135882094034936),\n",
        "  'estimate median': 19.967988876545167,\n",
        "  'estimate mu': 2.9940813544147757,\n",
        "  'median': array([ 19.91765655,  19.93898884,  20.00252682, ...,  19.79571448,\n",
        "          19.81872062,  20.20113643]),\n",
        "  'mu': array([ 2.9916066 ,  2.99267705,  2.99585861, ...,  2.98546547,\n",
        "          2.98662698,  3.00573886])},\n",
        " 'B': {'95_CI median': (20.397274391771383, 21.207229804217249),\n",
        "  '95_CI mu': (3.0154012836772695, 3.0543421520417504),\n",
        "  'estimate median': 20.80085269001675,\n",
        "  'estimate mu': 3.0349446454058322,\n",
        "  'median': array([ 20.82239216,  21.01797929,  20.61862331, ...,  20.9316842 ,\n",
        "          21.00618837,  21.16582024]),\n",
        "  'mu': array([ 3.03602895,  3.04537823,  3.02619471, ...,  3.041264  ,\n",
        "          3.04481708,  3.05238763])},\n",
        " ('A', 'B'): {'95_CI diff_medians': (0.27533173733109967, 1.4019944444025898),\n",
        "  'diff_medians': array([ 0.9986639 ,  0.89754045,  0.62713396, ...,  0.58529723,\n",
        "          0.89715655,  0.70074241]),\n",
        "  'estimate diff_medians': 0.83601725810919003,\n",
        "  'p_diff_medians': 0.99817}}"
       ]
      }
     ],
     "prompt_number": 6
    },
    {
     "cell_type": "code",
     "collapsed": false,
     "input": [
      "A,B = data['A']['median'], data['B']['median']\n",
      "diff = data[('A','B')]['diff_medians']\n",
      "\n",
      "f, axes = plt.subplots(1,2, figsize=(12, 7))\n",
      "sns.set(style=\"white\", palette=\"muted\")\n",
      "sns.despine(left=True)\n",
      "\n",
      "sns.distplot(A, ax=axes[0], label='Median Estimate Density for A')\n",
      "sns.distplot(B, ax=axes[0], label='Median Estimate Density for B')\n",
      "sns.distplot(diff, ax=axes[1], label='Difference of Densities (B-A)')\n",
      "\n",
      "axes[0].legend()\n",
      "axes[1].legend()\n",
      "\n",
      "plt.show()"
     ],
     "language": "python",
     "metadata": {},
     "outputs": [
      {
       "metadata": {},
       "output_type": "display_data",
       "png": "[encoded data removed]",
       "text": [
        "<matplotlib.figure.Figure at 0x11102ee10>"
       ]
      }
     ],
     "prompt_number": 7
    },
    {
     "cell_type": "heading",
     "level": 3,
     "metadata": {},
     "source": [
      "Bayesian t-Test"
     ]
    },
    {
     "cell_type": "markdown",
     "metadata": {},
     "source": [
      "Kruschke's implementation of the Bayesian t-Test. Since the implementation of this test uses PyMC2 and HMCMC it can take a while for the sampler to converge."
     ]
    },
    {
     "cell_type": "code",
     "collapsed": false,
     "input": [
      "n1,n2 = (140,200)\n",
      "\n",
      "group1 = np.random.normal(15,2,n1)\n",
      "group2 = np.random.normal(15.7,2,n2)\n",
      "\n",
      "A = zip(['A']*n1, group1)\n",
      "B = zip(['B']*n2, group2)\n",
      "\n",
      "df = pd.concat([pd.DataFrame(A), pd.DataFrame(B)])\n",
      "df.columns = 'group','value'\n",
      "df.head()"
     ],
     "language": "python",
     "metadata": {},
     "outputs": [
      {
       "html": [
        "<div style=\"max-height:1000px;max-width:1500px;overflow:auto;\">\n",
        "<table border=\"1\" class=\"dataframe\">\n",
        "  <thead>\n",
        "    <tr style=\"text-align: right;\">\n",
        "      <th></th>\n",
        "      <th>group</th>\n",
        "      <th>value</th>\n",
        "    </tr>\n",
        "  </thead>\n",
        "  <tbody>\n",
        "    <tr>\n",
        "      <th>0</th>\n",
        "      <td> A</td>\n",
        "      <td> 15.966587</td>\n",
        "    </tr>\n",
        "    <tr>\n",
        "      <th>1</th>\n",
        "      <td> A</td>\n",
        "      <td> 13.325203</td>\n",
        "    </tr>\n",
        "    <tr>\n",
        "      <th>2</th>\n",
        "      <td> A</td>\n",
        "      <td> 13.167453</td>\n",
        "    </tr>\n",
        "    <tr>\n",
        "      <th>3</th>\n",
        "      <td> A</td>\n",
        "      <td> 16.819778</td>\n",
        "    </tr>\n",
        "    <tr>\n",
        "      <th>4</th>\n",
        "      <td> A</td>\n",
        "      <td> 11.477265</td>\n",
        "    </tr>\n",
        "  </tbody>\n",
        "</table>\n",
        "</div>"
       ],
       "metadata": {},
       "output_type": "pyout",
       "prompt_number": 8,
       "text": [
        "  group      value\n",
        "0     A  15.966587\n",
        "1     A  13.325203\n",
        "2     A  13.167453\n",
        "3     A  16.819778\n",
        "4     A  11.477265"
       ]
      }
     ],
     "prompt_number": 8
    },
    {
     "cell_type": "code",
     "collapsed": false,
     "input": [
      "description, data = t_test(df,groupcol='group',valuecol='value',  samples=60000, progress_bar=True)"
     ],
     "language": "python",
     "metadata": {},
     "outputs": [
      {
       "output_type": "stream",
       "stream": "stdout",
       "text": [
        "\r",
        " [                  1%                  ] 1099 of 60000 complete in 0.5 sec"
       ]
      },
      {
       "output_type": "stream",
       "stream": "stdout",
       "text": [
        "\r",
        " [-                 3%                  ] 2067 of 60000 complete in 1.0 sec"
       ]
      },
      {
       "output_type": "stream",
       "stream": "stdout",
       "text": [
        "\r",
        " [-                 5%                  ] 3078 of 60000 complete in 1.5 sec"
       ]
      },
      {
       "output_type": "stream",
       "stream": "stdout",
       "text": [
        "\r",
        " [--                6%                  ] 4097 of 60000 complete in 2.0 sec"
       ]
      },
      {
       "output_type": "stream",
       "stream": "stdout",
       "text": [
        "\r",
        " [---               8%                  ] 5039 of 60000 complete in 2.5 sec"
       ]
      },
      {
       "output_type": "stream",
       "stream": "stdout",
       "text": [
        "\r",
        " [---              10%                  ] 6102 of 60000 complete in 3.0 sec"
       ]
      },
      {
       "output_type": "stream",
       "stream": "stdout",
       "text": [
        "\r",
        " [----             11%                  ] 7191 of 60000 complete in 3.5 sec"
       ]
      },
      {
       "output_type": "stream",
       "stream": "stdout",
       "text": [
        "\r",
        " [-----            13%                  ] 8199 of 60000 complete in 4.0 sec"
       ]
      },
      {
       "output_type": "stream",
       "stream": "stdout",
       "text": [
        "\r",
        " [-----            15%                  ] 9271 of 60000 complete in 4.5 sec"
       ]
      },
      {
       "output_type": "stream",
       "stream": "stdout",
       "text": [
        "\r",
        " [------           17%                  ] 10242 of 60000 complete in 5.0 sec"
       ]
      },
      {
       "output_type": "stream",
       "stream": "stdout",
       "text": [
        "\r",
        " [-------          18%                  ] 11130 of 60000 complete in 5.5 sec"
       ]
      },
      {
       "output_type": "stream",
       "stream": "stdout",
       "text": [
        "\r",
        " [-------          20%                  ] 12013 of 60000 complete in 6.0 sec"
       ]
      },
      {
       "output_type": "stream",
       "stream": "stdout",
       "text": [
        "\r",
        " [--------         21%                  ] 12745 of 60000 complete in 6.5 sec"
       ]
      },
      {
       "output_type": "stream",
       "stream": "stdout",
       "text": [
        "\r",
        " [--------         22%                  ] 13611 of 60000 complete in 7.0 sec"
       ]
      },
      {
       "output_type": "stream",
       "stream": "stdout",
       "text": [
        "\r",
        " [---------        24%                  ] 14491 of 60000 complete in 7.5 sec"
       ]
      },
      {
       "output_type": "stream",
       "stream": "stdout",
       "text": [
        "\r",
        " [---------        25%                  ] 15213 of 60000 complete in 8.0 sec"
       ]
      },
      {
       "output_type": "stream",
       "stream": "stdout",
       "text": [
        "\r",
        " [----------       26%                  ] 16037 of 60000 complete in 8.5 sec"
       ]
      },
      {
       "output_type": "stream",
       "stream": "stdout",
       "text": [
        "\r",
        " [----------       27%                  ] 16563 of 60000 complete in 9.0 sec"
       ]
      },
      {
       "output_type": "stream",
       "stream": "stdout",
       "text": [
        "\r",
        " [-----------      28%                  ] 17369 of 60000 complete in 9.5 sec"
       ]
      },
      {
       "output_type": "stream",
       "stream": "stdout",
       "text": [
        "\r",
        " [-----------      30%                  ] 18190 of 60000 complete in 10.0 sec"
       ]
      },
      {
       "output_type": "stream",
       "stream": "stdout",
       "text": [
        "\r",
        " [------------     31%                  ] 18953 of 60000 complete in 10.5 sec"
       ]
      },
      {
       "output_type": "stream",
       "stream": "stdout",
       "text": [
        "\r",
        " [------------     32%                  ] 19623 of 60000 complete in 11.0 sec"
       ]
      },
      {
       "output_type": "stream",
       "stream": "stdout",
       "text": [
        "\r",
        " [------------     33%                  ] 20242 of 60000 complete in 11.5 sec"
       ]
      },
      {
       "output_type": "stream",
       "stream": "stdout",
       "text": [
        "\r",
        " [-------------    34%                  ] 20848 of 60000 complete in 12.0 sec"
       ]
      },
      {
       "output_type": "stream",
       "stream": "stdout",
       "text": [
        "\r",
        " [-------------    36%                  ] 21652 of 60000 complete in 12.5 sec"
       ]
      },
      {
       "output_type": "stream",
       "stream": "stdout",
       "text": [
        "\r",
        " [--------------   37%                  ] 22393 of 60000 complete in 13.0 sec"
       ]
      },
      {
       "output_type": "stream",
       "stream": "stdout",
       "text": [
        "\r",
        " [--------------   38%                  ] 23114 of 60000 complete in 13.5 sec"
       ]
      },
      {
       "output_type": "stream",
       "stream": "stdout",
       "text": [
        "\r",
        " [---------------  39%                  ] 23951 of 60000 complete in 14.0 sec"
       ]
      },
      {
       "output_type": "stream",
       "stream": "stdout",
       "text": [
        "\r",
        " [---------------  41%                  ] 24682 of 60000 complete in 14.5 sec"
       ]
      },
      {
       "output_type": "stream",
       "stream": "stdout",
       "text": [
        "\r",
        " [---------------- 42%                  ] 25521 of 60000 complete in 15.0 sec"
       ]
      },
      {
       "output_type": "stream",
       "stream": "stdout",
       "text": [
        "\r",
        " [---------------- 43%                  ] 26328 of 60000 complete in 15.5 sec"
       ]
      },
      {
       "output_type": "stream",
       "stream": "stdout",
       "text": [
        "\r",
        " [-----------------45%                  ] 27044 of 60000 complete in 16.0 sec"
       ]
      },
      {
       "output_type": "stream",
       "stream": "stdout",
       "text": [
        "\r",
        " [-----------------46%                  ] 27765 of 60000 complete in 16.5 sec"
       ]
      },
      {
       "output_type": "stream",
       "stream": "stdout",
       "text": [
        "\r",
        " [-----------------47%                  ] 28507 of 60000 complete in 17.0 sec"
       ]
      },
      {
       "output_type": "stream",
       "stream": "stdout",
       "text": [
        "\r",
        " [-----------------48%                  ] 29334 of 60000 complete in 17.5 sec"
       ]
      },
      {
       "output_type": "stream",
       "stream": "stdout",
       "text": [
        "\r",
        " [-----------------50%                  ] 30125 of 60000 complete in 18.0 sec"
       ]
      },
      {
       "output_type": "stream",
       "stream": "stdout",
       "text": [
        "\r",
        " [-----------------51%                  ] 31011 of 60000 complete in 18.5 sec"
       ]
      },
      {
       "output_type": "stream",
       "stream": "stdout",
       "text": [
        "\r",
        " [-----------------53%                  ] 31814 of 60000 complete in 19.0 sec"
       ]
      },
      {
       "output_type": "stream",
       "stream": "stdout",
       "text": [
        "\r",
        " [-----------------54%                  ] 32711 of 60000 complete in 19.5 sec"
       ]
      },
      {
       "output_type": "stream",
       "stream": "stdout",
       "text": [
        "\r",
        " [-----------------56%-                 ] 33604 of 60000 complete in 20.0 sec"
       ]
      },
      {
       "output_type": "stream",
       "stream": "stdout",
       "text": [
        "\r",
        " [-----------------57%-                 ] 34409 of 60000 complete in 20.5 sec"
       ]
      },
      {
       "output_type": "stream",
       "stream": "stdout",
       "text": [
        "\r",
        " [-----------------58%--                ] 35313 of 60000 complete in 21.0 sec"
       ]
      },
      {
       "output_type": "stream",
       "stream": "stdout",
       "text": [
        "\r",
        " [-----------------60%--                ] 36166 of 60000 complete in 21.5 sec"
       ]
      },
      {
       "output_type": "stream",
       "stream": "stdout",
       "text": [
        "\r",
        " [-----------------61%---               ] 37037 of 60000 complete in 22.0 sec"
       ]
      },
      {
       "output_type": "stream",
       "stream": "stdout",
       "text": [
        "\r",
        " [-----------------63%----              ] 37905 of 60000 complete in 22.5 sec"
       ]
      },
      {
       "output_type": "stream",
       "stream": "stdout",
       "text": [
        "\r",
        " [-----------------64%----              ] 38605 of 60000 complete in 23.0 sec"
       ]
      },
      {
       "output_type": "stream",
       "stream": "stdout",
       "text": [
        "\r",
        " [-----------------65%----              ] 39314 of 60000 complete in 23.5 sec"
       ]
      },
      {
       "output_type": "stream",
       "stream": "stdout",
       "text": [
        "\r",
        " [-----------------66%-----             ] 40088 of 60000 complete in 24.0 sec"
       ]
      },
      {
       "output_type": "stream",
       "stream": "stdout",
       "text": [
        "\r",
        " [-----------------68%-----             ] 40906 of 60000 complete in 24.5 sec"
       ]
      },
      {
       "output_type": "stream",
       "stream": "stdout",
       "text": [
        "\r",
        " [-----------------69%------            ] 41588 of 60000 complete in 25.0 sec"
       ]
      },
      {
       "output_type": "stream",
       "stream": "stdout",
       "text": [
        "\r",
        " [-----------------70%------            ] 42365 of 60000 complete in 25.5 sec"
       ]
      },
      {
       "output_type": "stream",
       "stream": "stdout",
       "text": [
        "\r",
        " [-----------------71%-------           ] 43078 of 60000 complete in 26.0 sec"
       ]
      },
      {
       "output_type": "stream",
       "stream": "stdout",
       "text": [
        "\r",
        " [-----------------72%-------           ] 43721 of 60000 complete in 26.5 sec"
       ]
      },
      {
       "output_type": "stream",
       "stream": "stdout",
       "text": [
        "\r",
        " [-----------------73%--------          ] 44321 of 60000 complete in 27.0 sec"
       ]
      },
      {
       "output_type": "stream",
       "stream": "stdout",
       "text": [
        "\r",
        " [-----------------74%--------          ] 44833 of 60000 complete in 27.5 sec"
       ]
      },
      {
       "output_type": "stream",
       "stream": "stdout",
       "text": [
        "\r",
        " [-----------------75%--------          ] 45431 of 60000 complete in 28.0 sec"
       ]
      },
      {
       "output_type": "stream",
       "stream": "stdout",
       "text": [
        "\r",
        " [-----------------76%---------         ] 45966 of 60000 complete in 28.5 sec"
       ]
      },
      {
       "output_type": "stream",
       "stream": "stdout",
       "text": [
        "\r",
        " [-----------------77%---------         ] 46527 of 60000 complete in 29.0 sec"
       ]
      },
      {
       "output_type": "stream",
       "stream": "stdout",
       "text": [
        "\r",
        " [-----------------78%----------        ] 47377 of 60000 complete in 29.5 sec"
       ]
      },
      {
       "output_type": "stream",
       "stream": "stdout",
       "text": [
        "\r",
        " [-----------------80%----------        ] 48205 of 60000 complete in 30.0 sec"
       ]
      },
      {
       "output_type": "stream",
       "stream": "stdout",
       "text": [
        "\r",
        " [-----------------81%-----------       ] 49123 of 60000 complete in 30.5 sec"
       ]
      },
      {
       "output_type": "stream",
       "stream": "stdout",
       "text": [
        "\r",
        " [-----------------83%-----------       ] 50048 of 60000 complete in 31.0 sec"
       ]
      },
      {
       "output_type": "stream",
       "stream": "stdout",
       "text": [
        "\r",
        " [-----------------84%------------      ] 50908 of 60000 complete in 31.5 sec"
       ]
      },
      {
       "output_type": "stream",
       "stream": "stdout",
       "text": [
        "\r",
        " [-----------------86%------------      ] 51785 of 60000 complete in 32.0 sec"
       ]
      },
      {
       "output_type": "stream",
       "stream": "stdout",
       "text": [
        "\r",
        " [-----------------87%-------------     ] 52732 of 60000 complete in 32.5 sec"
       ]
      },
      {
       "output_type": "stream",
       "stream": "stdout",
       "text": [
        "\r",
        " [-----------------89%-------------     ] 53645 of 60000 complete in 33.0 sec"
       ]
      },
      {
       "output_type": "stream",
       "stream": "stdout",
       "text": [
        "\r",
        " [-----------------90%--------------    ] 54530 of 60000 complete in 33.5 sec"
       ]
      },
      {
       "output_type": "stream",
       "stream": "stdout",
       "text": [
        "\r",
        " [-----------------92%---------------   ] 55445 of 60000 complete in 34.0 sec"
       ]
      },
      {
       "output_type": "stream",
       "stream": "stdout",
       "text": [
        "\r",
        " [-----------------93%---------------   ] 56309 of 60000 complete in 34.5 sec"
       ]
      },
      {
       "output_type": "stream",
       "stream": "stdout",
       "text": [
        "\r",
        " [-----------------95%----------------  ] 57169 of 60000 complete in 35.0 sec"
       ]
      },
      {
       "output_type": "stream",
       "stream": "stdout",
       "text": [
        "\r",
        " [-----------------96%----------------  ] 57954 of 60000 complete in 35.5 sec"
       ]
      },
      {
       "output_type": "stream",
       "stream": "stdout",
       "text": [
        "\r",
        " [-----------------98%----------------- ] 58895 of 60000 complete in 36.0 sec"
       ]
      },
      {
       "output_type": "stream",
       "stream": "stdout",
       "text": [
        "\r",
        " [-----------------99%----------------- ] 59838 of 60000 complete in 36.5 sec"
       ]
      },
      {
       "output_type": "stream",
       "stream": "stdout",
       "text": [
        "\r",
        " [-----------------100%-----------------] 60000 of 60000 complete in 36.6 sec"
       ]
      }
     ],
     "prompt_number": 9
    },
    {
     "cell_type": "code",
     "collapsed": false,
     "input": [
      "print description"
     ],
     "language": "python",
     "metadata": {},
     "outputs": [
      {
       "output_type": "stream",
       "stream": "stdout",
       "text": [
        "                                Bayesian t-Test                                 \n",
        "\n",
        " \n",
        "\n",
        "| Hypothesis   |   Difference of Means |   P.Value |   95% CI Lower |   95% CI Upper |\n",
        "|:-------------|----------------------:|----------:|---------------:|---------------:|\n",
        "| A < B        |              0.615342 |   0.99634 |       0.166168 |        1.06076 |\n",
        "\n",
        "| Hypothesis   |   Difference of S.Dev |   P.Value |   95% CI Lower |   95% CI Upper |\n",
        "|:-------------|----------------------:|----------:|---------------:|---------------:|\n",
        "| A < B        |            -0.0742268 |   0.99634 |      -0.406807 |       0.245165 |\n",
        "\n",
        "| Hypothesis   |   Effect Size |   P.Value |   95% CI Lower |   95% CI Upper |\n",
        "|:-------------|--------------:|----------:|---------------:|---------------:|\n",
        "| A < B        |      0.307289 |   0.99634 |      0.0820258 |       0.534693 |\n",
        "\n"
       ]
      }
     ],
     "prompt_number": 10
    },
    {
     "cell_type": "code",
     "collapsed": false,
     "input": [
      "data"
     ],
     "language": "python",
     "metadata": {},
     "outputs": [
      {
       "metadata": {},
       "output_type": "pyout",
       "prompt_number": 11,
       "text": [
        "{('A', 'B'): {'95_CI diff_means': (0.16616767369085217, 1.0607615037686999),\n",
        "  '95_CI diff_sdev': (-0.40680740482572286, 0.24516545973634493),\n",
        "  '95_CI effect_size': (0.082025751833462696, 0.53469271165322396),\n",
        "  '95_CI normality': (2.7181836105660566, 4.9429108754818154),\n",
        "  'diff_means': array([ 0.73519082,  0.73519082,  0.73519082, ...,  0.7001475 ,\n",
        "          0.7001475 ,  0.6109902 ]),\n",
        "  'diff_sdev': array([-0.13127381,  0.0077973 ,  0.0077973 , ..., -0.03361839,\n",
        "         -0.03361839, -0.22805008]),\n",
        "  'effect_size': array([ 0.37585712,  0.36315121,  0.36315121, ...,  0.37019659,\n",
        "          0.37019659,  0.28823471]),\n",
        "  'estimate diff_means': 0.61534160201241928,\n",
        "  'estimate diff_sdev': -0.074226828808064541,\n",
        "  'estimate effect_size': 0.30728877507248942,\n",
        "  'estimate normality': 3.8467586387038804,\n",
        "  'normality': array([ 3.841625  ,  3.93315437,  3.90488072, ...,  2.5763289 ,\n",
        "          4.74042306,  4.46886193]),\n",
        "  'p_value': 0.99634}}"
       ]
      }
     ],
     "prompt_number": 11
    },
    {
     "cell_type": "code",
     "collapsed": false,
     "input": [
      "diff = data[('A', 'B')]['diff_means']\n",
      "\n",
      "f, axes = plt.subplots(1,1, figsize=(12, 7))\n",
      "sns.despine(left=True)\n",
      "sns.distplot(diff, label='Difference of Means').legend()\n",
      "plt.show()"
     ],
     "language": "python",
     "metadata": {},
     "outputs": [
      {
       "metadata": {},
       "output_type": "display_data",
       "png": "[encoded data removed]",
       "text": [
        "<matplotlib.figure.Figure at 0x11102e890>"
       ]
      }
     ],
     "prompt_number": 12
    },
    {
     "cell_type": "heading",
     "level": 3,
     "metadata": {},
     "source": [
      "Beta-Binomial Conversion Rate Test"
     ]
    },
    {
     "cell_type": "markdown",
     "metadata": {},
     "source": [
      "A common test in A/B tests is comparing the conversion rate between two features. Here we take the number of successes and total trials (or tests) and use the beta-binomial model."
     ]
    },
    {
     "cell_type": "code",
     "collapsed": false,
     "input": [
      "A = {'group':'A', 'trials': 10000, 'successes':5000}\n",
      "B = {'group':'B', 'trials': 8000, 'successes':4090}\n",
      "\n",
      "df = pd.DataFrame([A,B])\n",
      "df"
     ],
     "language": "python",
     "metadata": {},
     "outputs": [
      {
       "html": [
        "<div style=\"max-height:1000px;max-width:1500px;overflow:auto;\">\n",
        "<table border=\"1\" class=\"dataframe\">\n",
        "  <thead>\n",
        "    <tr style=\"text-align: right;\">\n",
        "      <th></th>\n",
        "      <th>group</th>\n",
        "      <th>successes</th>\n",
        "      <th>trials</th>\n",
        "    </tr>\n",
        "  </thead>\n",
        "  <tbody>\n",
        "    <tr>\n",
        "      <th>0</th>\n",
        "      <td> A</td>\n",
        "      <td> 5000</td>\n",
        "      <td> 10000</td>\n",
        "    </tr>\n",
        "    <tr>\n",
        "      <th>1</th>\n",
        "      <td> B</td>\n",
        "      <td> 4090</td>\n",
        "      <td>  8000</td>\n",
        "    </tr>\n",
        "  </tbody>\n",
        "</table>\n",
        "</div>"
       ],
       "metadata": {},
       "output_type": "pyout",
       "prompt_number": 13,
       "text": [
        "  group  successes  trials\n",
        "0     A       5000   10000\n",
        "1     B       4090    8000"
       ]
      }
     ],
     "prompt_number": 13
    },
    {
     "cell_type": "code",
     "collapsed": false,
     "input": [
      "summary, data = conversion_test(df, groupcol='group',successcol='successes',totalcol='trials')"
     ],
     "language": "python",
     "metadata": {},
     "outputs": [],
     "prompt_number": 14
    },
    {
     "cell_type": "code",
     "collapsed": false,
     "input": [
      "print summary"
     ],
     "language": "python",
     "metadata": {},
     "outputs": [
      {
       "output_type": "stream",
       "stream": "stdout",
       "text": [
        "                       Beta-Binomial Conversion Rate Test                       \n",
        "\n",
        "Groups: A, B\n",
        "\n",
        "Estimates:\n",
        "\n",
        "| Group   |   Estimate |   95% CI Lower |   95% CI Upper |\n",
        "|:--------|-----------:|---------------:|---------------:|\n",
        "| A       |   0.499992 |       0.490171 |       0.50985  |\n",
        "| B       |   0.511273 |       0.500367 |       0.522262 |\n",
        "\n",
        "Comparisions:\n",
        "\n",
        "| Hypothesis   |   Difference |   P.Value |   95% CI Lower |   95% CI Upper |\n",
        "|:-------------|-------------:|----------:|---------------:|---------------:|\n",
        "| A < B        |    0.0112996 |   0.93382 |    -0.00340105 |      0.0259613 |\n",
        "\n"
       ]
      }
     ],
     "prompt_number": 15
    },
    {
     "cell_type": "code",
     "collapsed": false,
     "input": [
      "data"
     ],
     "language": "python",
     "metadata": {},
     "outputs": [
      {
       "metadata": {},
       "output_type": "pyout",
       "prompt_number": 16,
       "text": [
        "{'A': {'95_CI distribution': (0.490170932451785, 0.50984957151785359),\n",
        "  'distribution': array([ 0.49507909,  0.50249383,  0.50094899, ...,  0.49757971,\n",
        "          0.5033679 ,  0.50987935]),\n",
        "  'estimate distribution': 0.49999171042256385},\n",
        " 'B': {'95_CI distribution': (0.50036736424754913, 0.52226184463868186),\n",
        "  'distribution': array([ 0.50391322,  0.50740701,  0.513166  , ...,  0.50904913,\n",
        "          0.51954921,  0.52010852]),\n",
        "  'estimate distribution': 0.51127264992135579},\n",
        " ('A',\n",
        "  'B'): {'95_CI difference': (-0.0034010518358835976,\n",
        "   0.025961280739883852), 'difference_p_value': 0.93381999999999998, 'distribution': array([ 0.00624725,  0.01752089,  0.0132974 , ...,  0.01536134,\n",
        "          0.01871532,  0.01922152]), 'estimate difference': 0.011299578729575953}}"
       ]
      }
     ],
     "prompt_number": 16
    },
    {
     "cell_type": "code",
     "collapsed": false,
     "input": [
      "A = data['A']['distribution']\n",
      "B = data['B']['distribution']\n",
      "diff = data[('A','B')]['distribution']\n",
      "\n",
      "f, axes = plt.subplots(1,2, figsize=(12, 7))\n",
      "sns.set(style=\"white\", palette=\"muted\")\n",
      "sns.despine(left=True)\n",
      "\n",
      "sns.distplot(A, ax=axes[0], label='Density Estimate for A')\n",
      "sns.distplot(B, ax=axes[0], label='Density Estimate for B')\n",
      "sns.distplot(diff, ax=axes[1], label='Difference of Densities (B-A)')\n",
      "\n",
      "axes[0].legend()\n",
      "axes[1].legend()\n",
      "\n",
      "plt.show()"
     ],
     "language": "python",
     "metadata": {},
     "outputs": [
      {
       "metadata": {},
       "output_type": "display_data",
       "png": "[encoded data removed]",
       "text": [
        "<matplotlib.figure.Figure at 0x111a348d0>"
       ]
      }
     ],
     "prompt_number": 17
    }
   ],
   "metadata": {}
  }
 ]
}